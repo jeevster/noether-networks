{
 "cells": [
  {
   "cell_type": "code",
   "execution_count": 10,
   "metadata": {},
   "outputs": [],
   "source": [
    "import h5py\n",
    "import matplotlib.pyplot as plt\n",
    "import numpy as np\n",
    "import os\n",
    "from numpy import linalg\n",
    "\n",
    "# files = os.listdir('/data/divyam123/advection_subsample')\n",
    "# idx =0\n",
    "# f = files[idx]\n",
    "# print(idx)\n",
    "# # h5 = h5py.File(f'/data/divyam123/advection_subsample/{f}','r+')\n",
    "\n",
    "# # h5['x-coordinate'][:]\n",
    "# h5.close()\n",
    "# collection = list()\n",
    "# repeated = list()\n",
    "# files_list = set()\n",
    "# for file_name in files:\n",
    "#     data_tensor = h5py.File(f'/data/divyam123/burgers_1024_2048_-2_0.3/{file_name}','r')['tensor']\n",
    "#     unwanted_indices = []\n",
    "#     for i in range(100):\n",
    "#         norm = np.linalg.norm(data_tensor[i,-1])\n",
    "#         if norm < 1e-5:\n",
    "#             # files_list.add(file_name)\n",
    "#             # collection.append((file_name, i))\n",
    "#             unwanted_indices.append(i)\n",
    "#         if np.sum(data_tensor[i,-1] == data_tensor[i,-2]) > 0:\n",
    "#             # repeated.append((file_name, i))\n",
    "#             unwanted_indices.append(i)\n",
    "\n",
    "#     os.makedirs('/data/divyam123/burgers_1024_2048_-2_0.3_clean', exists_ok = True)\n",
    "#     data_tensor = np.delete(data_tensor, unwanted_indices, axis = 0)\n",
    "#     f = h5py.File(f'/data/divyam123/burgers_1024_{t_steps}_-2_0.3_clean/1D_Burgers_Sols_Nu{_nu_}.hdf5', 'w')\n",
    "#     f['x-coordinate'] = x_coordinate\n",
    "#     f['t-coordinate'] = t_coordinate\n",
    "#     f['tensor'] = data_tensor\n",
    "#     f.close()\n",
    "\n",
    "# collection"
   ]
  },
  {
   "cell_type": "code",
   "execution_count": 11,
   "metadata": {},
   "outputs": [
    {
     "data": {
      "text/plain": [
       "(0.029150530628251757, 0.722080901838546)"
      ]
     },
     "execution_count": 11,
     "metadata": {},
     "output_type": "execute_result"
    }
   ],
   "source": [
    "\n",
    "import h5py\n",
    "import matplotlib.pyplot as plt\n",
    "import numpy as np\n",
    "import os\n",
    "from numpy import linalg\n",
    "paths = os.listdir('/data/divyam123/burgers_4096_8192_-2_0.3')\n",
    "params = []\n",
    "for path in paths:\n",
    "    params.append(float(path[:-5].split('u')[-1]))\n",
    "params.sort()\n",
    "params[int(len(params) * 0.2)],params[int(len(params) * 0.8)]\n",
    "# files = os.listdir('/data/divyam123/burgers_1024_2048_-2_0.3')\n",
    "# collection = list()\n",
    "# repeated = list()\n",
    "# files_list = set()\n",
    "# for file_name in files:\n",
    "#     data = h5py.File(f'/data/divyam123/burgers_1024_2048_-2_0.3/{file_name}','r')\n",
    "#     data_tensor = data['tensor']\n",
    "#     unwanted_indices = []\n",
    "#     for i in range(100):\n",
    "#         norm = np.linalg.norm(data_tensor[i,-1])\n",
    "#         if norm < 1e-6:\n",
    "#             # files_list.add(file_name)\n",
    "#             # collection.append((file_name, i))\n",
    "#             unwanted_indices.append(i)\n",
    "#         if np.sum(data_tensor[i,-1] == data_tensor[i,-2]) > 0:\n",
    "#             # repeated.append((file_name, i))\n",
    "#             unwanted_indices.append(i)\n",
    "#     if len(unwanted_indices) < 100:\n",
    "#         os.makedirs('/data/divyam123/burgers_1024_2048_-2_0.3_clean', exist_ok = True)\n",
    "#         data_tensor = np.delete(data_tensor, unwanted_indices, axis = 0)\n",
    "#         print(data_tensor.shape)\n",
    "#         f = h5py.File(f'/data/divyam123/burgers_1024_2048_-2_0.3_clean/{file_name}', 'w')\n",
    "#         f['x-coordinate'] = data['x-coordinate'][:]\n",
    "#         f['t-coordinate'] = data['t-coordinate'][:]\n",
    "#         f['tensor'] = data_tensor\n",
    "#         f.close()"
   ]
  },
  {
   "cell_type": "code",
   "execution_count": 17,
   "metadata": {},
   "outputs": [
    {
     "name": "stdout",
     "output_type": "stream",
     "text": [
      "100\n"
     ]
    },
    {
     "data": {
      "text/plain": [
       "(0.029150530628251757, 0.722080901838546, 0.01, 1.9952623149688797)"
      ]
     },
     "execution_count": 17,
     "metadata": {},
     "output_type": "execute_result"
    }
   ],
   "source": [
    "paths = os.listdir('/data/divyam123/burgers_4096_8192_-2_0.3')\n",
    "params = []\n",
    "print(len(paths))\n",
    "for path in paths:\n",
    "    params.append(float(path[:-5].split('u')[-1]))\n",
    "params.sort()\n",
    "params[int(len(params) * 0.2)],params[int(len(params) * 0.8)], min(params), max(params)"
   ]
  },
  {
   "cell_type": "code",
   "execution_count": 16,
   "metadata": {},
   "outputs": [
    {
     "name": "stdout",
     "output_type": "stream",
     "text": [
      "121\n"
     ]
    },
    {
     "data": {
      "text/plain": [
       "(0.01894030353499194, 0.1286908705353679, 0.01, 0.24374441501222194)"
      ]
     },
     "execution_count": 16,
     "metadata": {},
     "output_type": "execute_result"
    }
   ],
   "source": [
    "\n",
    "paths = os.listdir('/data/divyam123/burgers_1024_2048_-2_0.3_clean')\n",
    "params = []\n",
    "print(len(paths))\n",
    "for path in paths:\n",
    "    params.append(float(path[:-5].split('u')[-1]))\n",
    "params.sort()\n",
    "params[int(len(params) * 0.2)],params[int(len(params) * 0.8)], min(params), max(params)"
   ]
  },
  {
   "cell_type": "code",
   "execution_count": 20,
   "metadata": {},
   "outputs": [
    {
     "name": "stdout",
     "output_type": "stream",
     "text": [
      "99\n"
     ]
    },
    {
     "data": {
      "text/plain": [
       "(3.0, 9.0, 1.0, 10.0)"
      ]
     },
     "execution_count": 20,
     "metadata": {},
     "output_type": "execute_result"
    }
   ],
   "source": [
    "paths = os.listdir('/data/divyam123/react_diff_4096_8192_nu=1e-2_1e-1_rho=1_10')\n",
    "params = []\n",
    "print(len(paths))\n",
    "for path in paths:\n",
    "    params.append(float(path.split('_')[-1][:-5]))\n",
    "params.sort()\n",
    "params[int(len(params) * 0.2)],params[int(len(params) * 0.8)], min(params), max(params)"
   ]
  },
  {
   "cell_type": "code",
   "execution_count": 22,
   "metadata": {},
   "outputs": [
    {
     "name": "stdout",
     "output_type": "stream",
     "text": [
      "200\n"
     ]
    },
    {
     "data": {
      "text/plain": [
       "(2.894736842105263, 8.578947368421051, 1.0, 10.0)"
      ]
     },
     "execution_count": 22,
     "metadata": {},
     "output_type": "execute_result"
    }
   ],
   "source": [
    "paths = os.listdir('/data/divyam123/react_diff_1024_2048_nu=1e-2_1e-1_rho=1_10')\n",
    "params = []\n",
    "print(len(paths))\n",
    "for path in paths:\n",
    "    params.append(float(path.split('_')[-1][:-5]))\n",
    "params.sort()\n",
    "params[int(len(params) * 0.2)],params[int(len(params) * 0.8)], min(params), max(params)"
   ]
  },
  {
   "cell_type": "code",
   "execution_count": null,
   "metadata": {},
   "outputs": [],
   "source": []
  }
 ],
 "metadata": {
  "kernelspec": {
   "display_name": "fenics",
   "language": "python",
   "name": "python3"
  },
  "language_info": {
   "codemirror_mode": {
    "name": "ipython",
    "version": 3
   },
   "file_extension": ".py",
   "mimetype": "text/x-python",
   "name": "python",
   "nbconvert_exporter": "python",
   "pygments_lexer": "ipython3",
   "version": "3.11.4"
  }
 },
 "nbformat": 4,
 "nbformat_minor": 2
}
