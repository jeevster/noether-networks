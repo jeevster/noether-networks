{
 "cells": [
  {
   "cell_type": "code",
   "execution_count": 19,
   "id": "79ce4d68",
   "metadata": {},
   "outputs": [
    {
     "data": {
      "text/plain": [
       "(128, 128)"
      ]
     },
     "execution_count": 19,
     "metadata": {},
     "output_type": "execute_result"
    }
   ],
   "source": [
    "import h5py\n",
    "import numpy as np\n",
    "file = h5py.File(\"/home/sanjeevr/noether-networks/diffusion-reaction/2D_diff-react_NA_NA.h5\")\n",
    "X, Y = np.meshgrid(file['0001']['grid']['x'][:], file['0001']['grid']['y'][:])\n"
   ]
  },
  {
   "cell_type": "code",
   "execution_count": null,
   "id": "4568c0c0",
   "metadata": {},
   "outputs": [],
   "source": []
  }
 ],
 "metadata": {
  "kernelspec": {
   "display_name": "Python 3 (ipykernel)",
   "language": "python",
   "name": "python3"
  },
  "language_info": {
   "codemirror_mode": {
    "name": "ipython",
    "version": 3
   },
   "file_extension": ".py",
   "mimetype": "text/x-python",
   "name": "python",
   "nbconvert_exporter": "python",
   "pygments_lexer": "ipython3",
   "version": "3.10.0"
  }
 },
 "nbformat": 4,
 "nbformat_minor": 5
}
